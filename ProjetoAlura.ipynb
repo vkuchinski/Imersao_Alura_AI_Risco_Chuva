{
  "nbformat": 4,
  "nbformat_minor": 0,
  "metadata": {
    "colab": {
      "provenance": [],
      "authorship_tag": "ABX9TyO0rgytDqv982kqZFROowth",
      "include_colab_link": true
    },
    "kernelspec": {
      "name": "python3",
      "display_name": "Python 3"
    },
    "language_info": {
      "name": "python"
    }
  },
  "cells": [
    {
      "cell_type": "markdown",
      "metadata": {
        "id": "view-in-github",
        "colab_type": "text"
      },
      "source": [
        "<a href=\"https://colab.research.google.com/github/vkuchinski/Imersao_Alura_AI_Risco_Chuva/blob/main/ProjetoAlura.ipynb\" target=\"_parent\"><img src=\"https://colab.research.google.com/assets/colab-badge.svg\" alt=\"Open In Colab\"/></a>"
      ]
    },
    {
      "cell_type": "markdown",
      "source": [
        "### Projeto Alura - Análise de Risco de Chuva\n",
        "\n",
        "#### Introdução\n",
        "Este notebook Jupyter demonstra a utilização do Google Earth Engine (GEE) e do Google Generative AI para realizar a análise de risco de chuva com base no volume precipitado em uma área específica. O código interage com um modelo de linguagem para obter instruções e fornecer resultados de forma estruturada.\n",
        "<br><br>\n",
        "\n",
        "#### Importante\n",
        "- Este é um projeto didático construído em uma imersão de tecnologia, com integração das plataformas de inteligência artificial e de dados espaciais do Google, e **em hipótese alguma deve ser utilizado para fins de informação ou operacionais**.\n",
        "- Os resultados da análise não foram validados e podem não representar a realidade, variando acordo com a qualidade dos dados disponíveis.\n",
        "- É de suma importância consultar os órgãos oficiais e especialistas na área, que prestam esse tipo de serviço, como o CEMADEN e o INMET.\n",
        "<br><br>\n",
        "\n",
        "#### Funcionamento\n",
        "O usuário fornece informações:\n",
        "- Cidade a ser pesquisada\n",
        "- Estado a ser pesquisado\n",
        "- Data da pesquisa\n",
        "\n",
        "O informações são repassadas ao modelo:\n",
        "- A precipitação média anual dos estados do Brasil\n",
        "- Explica a escala de risco de chuvas utilizada\n",
        "\n",
        "O modelo, com base no informado, fornece as seguintes informações:\n",
        "- A chuva média mensal para o estado informado\n",
        "- A longitude do local informado\n",
        "- A latitude do local informado\n",
        "\n",
        "O modelo obtém dados do GEE:\n",
        "- Carrega o dataset de bacias hidrográficas WWF/HydroATLAS/v1/Basins/level07\n",
        "- Filtra a bacia hidrográfica para o local informado\n",
        "- Carrega o dataset de precipitação NASA/GPM_L3/IMERG_V06\n",
        "- Filtra a precipitação para a data informada\n",
        "- Calcula a precipitação média na bacia hidrográfica\n",
        "\n",
        "O modelo analisa os dados e gera o resultado:\n",
        "- Compara o valor da precipitação observada com a média mensal\n",
        "- Determina o nível de risco de perigo com base na escala\n",
        "- Indica as ações recomendadas para a população local\n",
        "\n",
        "O modelo apresenta o resultado ao usuário:\n",
        "- Exibe o resultado em formato Markdown estruturado\n",
        "- Inclui informações sobre o local, data, análise e ações recomendadas\n",
        "<br><br>\n",
        "\n",
        "#### Benefícios\n",
        "- Análise precisa e atualizada: O GEE fornece dados de precipitação em tempo com com alta resolução temporal, razoável resolução espacial e com 2 dias de latência.\n",
        "- Interpretação facilitada: O modelo de linguagem auxilia na interpretação dos dados e na comunicação dos resultados de forma clara e concisa.\n",
        "<br>\n",
        "<br>\n",
        "\n",
        "#### Possíveis aplicações\n",
        "- Órgãos públicos: Auxiliar na gestão de recursos hídricos e na elaboração de planos de contingência para inundações.\n",
        "- Defesa Civil: Monitorar áreas de risco e emitir alertas à população em caso de risco iminente de inundação.\n",
        "- Empresas: Avaliar riscos para infraestrutura e operações em áreas suscetíveis a inundações.\n",
        "- Pesquisadores: Realizar estudos sobre a dinâmica da precipitação e os impactos das inundações.\n",
        "<br><br>\n",
        "\n",
        "#### Instruções de Uso\n",
        "Siga as instruções do modelo:\n",
        "- Responda às perguntas do modelo com as informações solicitadas.\n",
        "- Forneça dados precisos e atualizados.\n",
        "- Siga as instruções para a interpretação dos resultados.\n",
        "\n",
        "O modelo fornecerá o resultado:\n",
        "- A análise do risco de inundação para a área informada.\n",
        "- Informações sobre o local, data, precipitação e nível de risco.\n",
        "- Ações recomendadas para a população local."
      ],
      "metadata": {
        "id": "88dhcDyQ0lJ1"
      }
    },
    {
      "cell_type": "code",
      "execution_count": 13,
      "metadata": {
        "id": "-Fz4Nj3ILA2i",
        "colab": {
          "base_uri": "https://localhost:8080/",
          "height": 17
        },
        "outputId": "04b52c05-f35a-4e86-e601-4bfddaa89c17"
      },
      "outputs": [
        {
          "output_type": "display_data",
          "data": {
            "text/plain": [
              "<IPython.core.display.HTML object>"
            ],
            "text/html": [
              "\n",
              "            <style>\n",
              "                .geemap-dark {\n",
              "                    --jp-widgets-color: white;\n",
              "                    --jp-widgets-label-color: white;\n",
              "                    --jp-ui-font-color1: white;\n",
              "                    --jp-layout-color2: #454545;\n",
              "                    background-color: #383838;\n",
              "                }\n",
              "\n",
              "                .geemap-dark .jupyter-button {\n",
              "                    --jp-layout-color3: #383838;\n",
              "                }\n",
              "\n",
              "                .geemap-colab {\n",
              "                    background-color: var(--colab-primary-surface-color, white);\n",
              "                }\n",
              "\n",
              "                .geemap-colab .jupyter-button {\n",
              "                    --jp-layout-color3: var(--colab-primary-surface-color, white);\n",
              "                }\n",
              "            </style>\n",
              "            "
            ]
          },
          "metadata": {}
        }
      ],
      "source": [
        "# Importando as bibliotecas que serão utilizadas\n",
        "from IPython.display import display, Markdown\n",
        "from google.colab import userdata\n",
        "import ee\n",
        "import geemap\n",
        "import textwrap"
      ]
    },
    {
      "cell_type": "code",
      "source": [
        "# Autenticando o Google Earth Engine (GEE)\n",
        "ee.Authenticate()\n",
        "\n",
        "# Abrindo a biblioteca de projetos do GEE\n",
        "ee.Initialize(project=userdata.get('GEE_PROJECT'))"
      ],
      "metadata": {
        "colab": {
          "base_uri": "https://localhost:8080/",
          "height": 17
        },
        "id": "9sbrpnqfovG0",
        "outputId": "2c174e9e-ccbc-4a9f-b24f-5892a7b6e332"
      },
      "execution_count": 14,
      "outputs": [
        {
          "output_type": "display_data",
          "data": {
            "text/plain": [
              "<IPython.core.display.HTML object>"
            ],
            "text/html": [
              "\n",
              "            <style>\n",
              "                .geemap-dark {\n",
              "                    --jp-widgets-color: white;\n",
              "                    --jp-widgets-label-color: white;\n",
              "                    --jp-ui-font-color1: white;\n",
              "                    --jp-layout-color2: #454545;\n",
              "                    background-color: #383838;\n",
              "                }\n",
              "\n",
              "                .geemap-dark .jupyter-button {\n",
              "                    --jp-layout-color3: #383838;\n",
              "                }\n",
              "\n",
              "                .geemap-colab {\n",
              "                    background-color: var(--colab-primary-surface-color, white);\n",
              "                }\n",
              "\n",
              "                .geemap-colab .jupyter-button {\n",
              "                    --jp-layout-color3: var(--colab-primary-surface-color, white);\n",
              "                }\n",
              "            </style>\n",
              "            "
            ]
          },
          "metadata": {}
        }
      ]
    },
    {
      "cell_type": "code",
      "source": [
        "# Instalando a API do Google Gen AI\n",
        "!pip install -q -U google-generativeai"
      ],
      "metadata": {
        "colab": {
          "base_uri": "https://localhost:8080/",
          "height": 17
        },
        "id": "QoKOBTPqglcG",
        "outputId": "7b82f18d-5402-4b44-cd06-9bb0c3f11fbb"
      },
      "execution_count": 15,
      "outputs": [
        {
          "output_type": "display_data",
          "data": {
            "text/plain": [
              "<IPython.core.display.HTML object>"
            ],
            "text/html": [
              "\n",
              "            <style>\n",
              "                .geemap-dark {\n",
              "                    --jp-widgets-color: white;\n",
              "                    --jp-widgets-label-color: white;\n",
              "                    --jp-ui-font-color1: white;\n",
              "                    --jp-layout-color2: #454545;\n",
              "                    background-color: #383838;\n",
              "                }\n",
              "\n",
              "                .geemap-dark .jupyter-button {\n",
              "                    --jp-layout-color3: #383838;\n",
              "                }\n",
              "\n",
              "                .geemap-colab {\n",
              "                    background-color: var(--colab-primary-surface-color, white);\n",
              "                }\n",
              "\n",
              "                .geemap-colab .jupyter-button {\n",
              "                    --jp-layout-color3: var(--colab-primary-surface-color, white);\n",
              "                }\n",
              "            </style>\n",
              "            "
            ]
          },
          "metadata": {}
        }
      ]
    },
    {
      "cell_type": "code",
      "source": [
        "# Importando o SDK do Python para Google Gen AI\n",
        "import google.generativeai as genai\n",
        "\n",
        "genai.configure(api_key=userdata.get('GOOGLE_API_KEY'))"
      ],
      "metadata": {
        "colab": {
          "base_uri": "https://localhost:8080/",
          "height": 17
        },
        "id": "S8lqE8TNoGoc",
        "outputId": "efd7c22a-6a89-4313-db32-a6ea2e029717"
      },
      "execution_count": 16,
      "outputs": [
        {
          "output_type": "display_data",
          "data": {
            "text/plain": [
              "<IPython.core.display.HTML object>"
            ],
            "text/html": [
              "\n",
              "            <style>\n",
              "                .geemap-dark {\n",
              "                    --jp-widgets-color: white;\n",
              "                    --jp-widgets-label-color: white;\n",
              "                    --jp-ui-font-color1: white;\n",
              "                    --jp-layout-color2: #454545;\n",
              "                    background-color: #383838;\n",
              "                }\n",
              "\n",
              "                .geemap-dark .jupyter-button {\n",
              "                    --jp-layout-color3: #383838;\n",
              "                }\n",
              "\n",
              "                .geemap-colab {\n",
              "                    background-color: var(--colab-primary-surface-color, white);\n",
              "                }\n",
              "\n",
              "                .geemap-colab .jupyter-button {\n",
              "                    --jp-layout-color3: var(--colab-primary-surface-color, white);\n",
              "                }\n",
              "            </style>\n",
              "            "
            ]
          },
          "metadata": {}
        }
      ]
    },
    {
      "cell_type": "code",
      "source": [
        "# Função para deixar o texto do modelo mais apresentável para o notebook\n",
        "def to_markdown(text):\n",
        "    text = text.replace(' * ', ' > ')\n",
        "    return Markdown(textwrap.indent(text, '> ', predicate=lambda x: True))\n",
        "\n",
        "# Funçao para remover os símbolos que saem na reposta do modelo\n",
        "def remover_simbolos(texto):\n",
        "    texto = texto.strip('**')  # Remove os asteriscos\n",
        "    texto = texto.strip('\"')   # Remove as aspas\n",
        "    return texto"
      ],
      "metadata": {
        "colab": {
          "base_uri": "https://localhost:8080/",
          "height": 17
        },
        "id": "UOQHPbtWCxrd",
        "outputId": "f292ed31-2176-4af4-ae57-85e7a9b2e8dd"
      },
      "execution_count": 17,
      "outputs": [
        {
          "output_type": "display_data",
          "data": {
            "text/plain": [
              "<IPython.core.display.HTML object>"
            ],
            "text/html": [
              "\n",
              "            <style>\n",
              "                .geemap-dark {\n",
              "                    --jp-widgets-color: white;\n",
              "                    --jp-widgets-label-color: white;\n",
              "                    --jp-ui-font-color1: white;\n",
              "                    --jp-layout-color2: #454545;\n",
              "                    background-color: #383838;\n",
              "                }\n",
              "\n",
              "                .geemap-dark .jupyter-button {\n",
              "                    --jp-layout-color3: #383838;\n",
              "                }\n",
              "\n",
              "                .geemap-colab {\n",
              "                    background-color: var(--colab-primary-surface-color, white);\n",
              "                }\n",
              "\n",
              "                .geemap-colab .jupyter-button {\n",
              "                    --jp-layout-color3: var(--colab-primary-surface-color, white);\n",
              "                }\n",
              "            </style>\n",
              "            "
            ]
          },
          "metadata": {}
        }
      ]
    },
    {
      "cell_type": "code",
      "source": [
        "# Inicializando o modelo\n",
        "generation_config = {\n",
        "    'candidate_count': 1,\n",
        "    'temperature': 0.1,\n",
        "}"
      ],
      "metadata": {
        "colab": {
          "base_uri": "https://localhost:8080/",
          "height": 17
        },
        "id": "VJCHNPFfs5k_",
        "outputId": "1f8b5ff7-66d6-44c7-c667-2bde0d744083"
      },
      "execution_count": 18,
      "outputs": [
        {
          "output_type": "display_data",
          "data": {
            "text/plain": [
              "<IPython.core.display.HTML object>"
            ],
            "text/html": [
              "\n",
              "            <style>\n",
              "                .geemap-dark {\n",
              "                    --jp-widgets-color: white;\n",
              "                    --jp-widgets-label-color: white;\n",
              "                    --jp-ui-font-color1: white;\n",
              "                    --jp-layout-color2: #454545;\n",
              "                    background-color: #383838;\n",
              "                }\n",
              "\n",
              "                .geemap-dark .jupyter-button {\n",
              "                    --jp-layout-color3: #383838;\n",
              "                }\n",
              "\n",
              "                .geemap-colab {\n",
              "                    background-color: var(--colab-primary-surface-color, white);\n",
              "                }\n",
              "\n",
              "                .geemap-colab .jupyter-button {\n",
              "                    --jp-layout-color3: var(--colab-primary-surface-color, white);\n",
              "                }\n",
              "            </style>\n",
              "            "
            ]
          },
          "metadata": {}
        }
      ]
    },
    {
      "cell_type": "code",
      "source": [
        "# Escolhendo o modelo\n",
        "model = genai.GenerativeModel(model_name='gemini-1.0-pro', generation_config=generation_config)"
      ],
      "metadata": {
        "colab": {
          "base_uri": "https://localhost:8080/",
          "height": 17
        },
        "id": "upq3vGnbs2F9",
        "outputId": "6d6aa000-bff4-48a2-f494-57374f92d1da"
      },
      "execution_count": 19,
      "outputs": [
        {
          "output_type": "display_data",
          "data": {
            "text/plain": [
              "<IPython.core.display.HTML object>"
            ],
            "text/html": [
              "\n",
              "            <style>\n",
              "                .geemap-dark {\n",
              "                    --jp-widgets-color: white;\n",
              "                    --jp-widgets-label-color: white;\n",
              "                    --jp-ui-font-color1: white;\n",
              "                    --jp-layout-color2: #454545;\n",
              "                    background-color: #383838;\n",
              "                }\n",
              "\n",
              "                .geemap-dark .jupyter-button {\n",
              "                    --jp-layout-color3: #383838;\n",
              "                }\n",
              "\n",
              "                .geemap-colab {\n",
              "                    background-color: var(--colab-primary-surface-color, white);\n",
              "                }\n",
              "\n",
              "                .geemap-colab .jupyter-button {\n",
              "                    --jp-layout-color3: var(--colab-primary-surface-color, white);\n",
              "                }\n",
              "            </style>\n",
              "            "
            ]
          },
          "metadata": {}
        }
      ]
    },
    {
      "cell_type": "code",
      "source": [
        "# Abrindo a instância do chat do modelo\n",
        "chat = model.start_chat(history=[])"
      ],
      "metadata": {
        "colab": {
          "base_uri": "https://localhost:8080/",
          "height": 17
        },
        "id": "KAEwE07AtARq",
        "outputId": "a4d148fe-3a28-4556-d560-c2574626cea5"
      },
      "execution_count": 20,
      "outputs": [
        {
          "output_type": "display_data",
          "data": {
            "text/plain": [
              "<IPython.core.display.HTML object>"
            ],
            "text/html": [
              "\n",
              "            <style>\n",
              "                .geemap-dark {\n",
              "                    --jp-widgets-color: white;\n",
              "                    --jp-widgets-label-color: white;\n",
              "                    --jp-ui-font-color1: white;\n",
              "                    --jp-layout-color2: #454545;\n",
              "                    background-color: #383838;\n",
              "                }\n",
              "\n",
              "                .geemap-dark .jupyter-button {\n",
              "                    --jp-layout-color3: #383838;\n",
              "                }\n",
              "\n",
              "                .geemap-colab {\n",
              "                    background-color: var(--colab-primary-surface-color, white);\n",
              "                }\n",
              "\n",
              "                .geemap-colab .jupyter-button {\n",
              "                    --jp-layout-color3: var(--colab-primary-surface-color, white);\n",
              "                }\n",
              "            </style>\n",
              "            "
            ]
          },
          "metadata": {}
        }
      ]
    },
    {
      "cell_type": "code",
      "source": [
        "# Chuva Média Mensal por Estado do Brasil (mm) (tabela obtida no Gemini)\n",
        "precipitacao_media_mensal = {\n",
        "    \"Acre\": 2120/12,\n",
        "    \"Alagoas\": 1100/12,\n",
        "    \"Amazonas\": 2820/12,\n",
        "    \"Amapá\": 3290/12,\n",
        "    \"Bahia\": 1430/12,\n",
        "    \"Ceará\": 2470/12,\n",
        "    \"Distrito Federal\": 1920/12,\n",
        "    \"Espírito Santo\": 1410/12,\n",
        "    \"Goiás\": 1900/12,\n",
        "    \"Maranhão\": 2470/12,\n",
        "    \"Mato Grosso\": 2230/12,\n",
        "    \"Mato Grosso do Sul\": 2310/12,\n",
        "    \"Minas Gerais\": 1900/12,\n",
        "    \"Pará\": 2820/12,\n",
        "    \"Paraíba\": 1240/12,\n",
        "    \"Paraná\": 1480/12,\n",
        "    \"Pernambuco\": 1290/12,\n",
        "    \"Piauí\": 1080/12,\n",
        "    \"Rio de Janeiro\": 1350/12,\n",
        "    \"Rio Grande do Norte\": 1180/12,\n",
        "    \"Rio Grande do Sul\": 1530/12,\n",
        "    \"Rondônia\": 2200/12,\n",
        "    \"Roraima\": 1770/12,\n",
        "    \"Santa Catarina\": 1670/12,\n",
        "    \"São Paulo\": 1260/12,\n",
        "    \"Sergipe\": 1690/12,\n",
        "    \"Tocantins\": 1820/12\n",
        "}"
      ],
      "metadata": {
        "colab": {
          "base_uri": "https://localhost:8080/",
          "height": 17
        },
        "id": "8OvWsvPcuyr5",
        "outputId": "b273a42e-b836-4afd-936f-d89f87b0b489"
      },
      "execution_count": 21,
      "outputs": [
        {
          "output_type": "display_data",
          "data": {
            "text/plain": [
              "<IPython.core.display.HTML object>"
            ],
            "text/html": [
              "\n",
              "            <style>\n",
              "                .geemap-dark {\n",
              "                    --jp-widgets-color: white;\n",
              "                    --jp-widgets-label-color: white;\n",
              "                    --jp-ui-font-color1: white;\n",
              "                    --jp-layout-color2: #454545;\n",
              "                    background-color: #383838;\n",
              "                }\n",
              "\n",
              "                .geemap-dark .jupyter-button {\n",
              "                    --jp-layout-color3: #383838;\n",
              "                }\n",
              "\n",
              "                .geemap-colab {\n",
              "                    background-color: var(--colab-primary-surface-color, white);\n",
              "                }\n",
              "\n",
              "                .geemap-colab .jupyter-button {\n",
              "                    --jp-layout-color3: var(--colab-primary-surface-color, white);\n",
              "                }\n",
              "            </style>\n",
              "            "
            ]
          },
          "metadata": {}
        }
      ]
    },
    {
      "cell_type": "code",
      "source": [
        "# Definindo as instruções do modelo\n",
        "instrucao_1 = 'Você é um assistente para obtenção de dados geográficos e de precipitação para a definição de perigo com relação ao volume precipitado em uma área'\n",
        "\n",
        "instrucao_2 = 'A seguir, segue a tabela de precipitação média anual dos estados do Brasil, posteriormente será requisitada essa informação para fins de comparação com o encontrado. Segue a tabela: ' + str(precipitacao_media_mensal)\n",
        "\n",
        "instrucao_3 = 'A escala de risco para chuva é a seguinte: Risco amarelo (Perigo Potencial): volume de chuva até 50 mm/dia, Risco laranja (Perigo): volume de chuva até 100 mm/dia, Risco vermelho (Grande Perigo): volume de chuva maior que 100 mm/dia'\n",
        "\n",
        "instrucao_4 = 'Amarelo significa Perigo Potencial, ou seja, os cidadãos devem ter “cuidado na prática de atividades sujeitas a riscos de caráter meteorológico” e para que as pessoas “mantenham-se informadas sobre as condições meteorológicas previstas e não corram risco desnecessário”. Laranja significa Perigo e a orientação é para que as pessoas das áreas afetadas “mantenham-se muito vigilantes e informem-se regularmente sobre as condições meteorológicas previstas”, “Inteire-se sobre os riscos que possam ser inevitáveis e siga os conselhos das autoridades”. Vermelho significa Grande Perigo, ou seja: “estão previstos fenômenos meteorológicos de intensidade excepcional”, com “grande probabilidade de ocorrência de grandes danos e acidentes com riscos para a integridade física ou mesmo à vida humana”. “Mantenha-se informado sobre as condições meteorológicas previstas e os possíveis riscos. Siga as instruções e conselhos das autoridades em todas as circunstâncias e prepare-se para medidas de emergência”.'\n",
        "\n",
        "instrucao_5 = 'O resultado final deve ser apresentado na seguinte estrutura: **Local**: Cidade, Estado \\n**Data**: Data \\n**Análise inicial**: deverá apresentar uma comparação rapida entre o valor da precipitação na data com a média mensal \\n**Análise do risco**: apresentar o risco conforme a escala anteriormente apresentada, caso haja, e informar quais ações devem ser tomadas pela população \\n**Pessoas afetadas**: informar o número de pessoas possivelmente afetadas, baseado na população do município informado'"
      ],
      "metadata": {
        "colab": {
          "base_uri": "https://localhost:8080/",
          "height": 17
        },
        "id": "hBzMaClXr6Lk",
        "outputId": "315054a6-413a-4080-b18e-07650d895c67"
      },
      "execution_count": 22,
      "outputs": [
        {
          "output_type": "display_data",
          "data": {
            "text/plain": [
              "<IPython.core.display.HTML object>"
            ],
            "text/html": [
              "\n",
              "            <style>\n",
              "                .geemap-dark {\n",
              "                    --jp-widgets-color: white;\n",
              "                    --jp-widgets-label-color: white;\n",
              "                    --jp-ui-font-color1: white;\n",
              "                    --jp-layout-color2: #454545;\n",
              "                    background-color: #383838;\n",
              "                }\n",
              "\n",
              "                .geemap-dark .jupyter-button {\n",
              "                    --jp-layout-color3: #383838;\n",
              "                }\n",
              "\n",
              "                .geemap-colab {\n",
              "                    background-color: var(--colab-primary-surface-color, white);\n",
              "                }\n",
              "\n",
              "                .geemap-colab .jupyter-button {\n",
              "                    --jp-layout-color3: var(--colab-primary-surface-color, white);\n",
              "                }\n",
              "            </style>\n",
              "            "
            ]
          },
          "metadata": {}
        }
      ]
    },
    {
      "cell_type": "code",
      "source": [
        "# Enviando as instruções para o modelo\n",
        "chat.send_message(instrucao_1)\n",
        "chat.send_message(instrucao_2)\n",
        "chat.send_message(instrucao_3)\n",
        "chat.send_message(instrucao_4)\n",
        "chat.send_message(instrucao_5)"
      ],
      "metadata": {
        "colab": {
          "base_uri": "https://localhost:8080/",
          "height": 260
        },
        "id": "eomRDIy_t8rt",
        "outputId": "2ebc7d5b-6a0c-4016-ee0a-ce43dd1a6317"
      },
      "execution_count": 23,
      "outputs": [
        {
          "output_type": "display_data",
          "data": {
            "text/plain": [
              "<IPython.core.display.HTML object>"
            ],
            "text/html": [
              "\n",
              "            <style>\n",
              "                .geemap-dark {\n",
              "                    --jp-widgets-color: white;\n",
              "                    --jp-widgets-label-color: white;\n",
              "                    --jp-ui-font-color1: white;\n",
              "                    --jp-layout-color2: #454545;\n",
              "                    background-color: #383838;\n",
              "                }\n",
              "\n",
              "                .geemap-dark .jupyter-button {\n",
              "                    --jp-layout-color3: #383838;\n",
              "                }\n",
              "\n",
              "                .geemap-colab {\n",
              "                    background-color: var(--colab-primary-surface-color, white);\n",
              "                }\n",
              "\n",
              "                .geemap-colab .jupyter-button {\n",
              "                    --jp-layout-color3: var(--colab-primary-surface-color, white);\n",
              "                }\n",
              "            </style>\n",
              "            "
            ]
          },
          "metadata": {}
        },
        {
          "output_type": "execute_result",
          "data": {
            "text/plain": [
              "response:\n",
              "GenerateContentResponse(\n",
              "    done=True,\n",
              "    iterator=None,\n",
              "    result=glm.GenerateContentResponse({'candidates': [{'content': {'parts': [{'text': '**Estrutura do Resultado Final:**\\n\\n**Local:** Cidade, Estado\\n**Data:** Data\\n**Análise Inicial:**\\n* Comparação do valor da precipitação na data com a média mensal\\n\\n**Análise do Risco:**\\n* Nível de risco de acordo com a escala de risco de chuva\\n* Ações que devem ser tomadas pela população\\n\\n**Pessoas Afetadas:**\\n* Número estimado de pessoas possivelmente afetadas, com base na população do município\\n\\n**Exemplo:**\\n\\n**Local:** São Paulo, São Paulo\\n**Data:** 10 de janeiro de 2023\\n**Análise Inicial:**\\n* A precipitação registrada em 10 de janeiro de 2023 foi de 80 mm.\\n* A média mensal de precipitação para janeiro em São Paulo é de 250 mm.\\n\\n**Análise do Risco:**\\n* Nível de risco: Amarelo (Perigo Potencial)\\n* Ações que devem ser tomadas pela população:\\n    * Tenha cuidado ao praticar atividades sujeitas a riscos meteorológicos.\\n    * Mantenha-se informado sobre as condições meteorológicas previstas e não corra riscos desnecessários.\\n\\n**Pessoas Afetadas:**\\n* População de São Paulo: 12.325.232 habitantes\\n* Número estimado de pessoas possivelmente afetadas: 12.325.232 (toda a população da cidade)\\n\\n**Observações:**\\n\\n* O nível de risco e as ações recomendadas podem variar dependendo das condições locais, como topografia, cobertura do solo e infraestrutura.\\n* É importante seguir as orientações das autoridades locais e estar preparado para tomar medidas de emergência, se necessário.'}], 'role': 'model'}, 'finish_reason': 1, 'index': 0, 'safety_ratings': [{'category': 9, 'probability': 1, 'blocked': False}, {'category': 8, 'probability': 1, 'blocked': False}, {'category': 7, 'probability': 1, 'blocked': False}, {'category': 10, 'probability': 1, 'blocked': False}], 'token_count': 0, 'grounding_attributions': []}]}),\n",
              ")"
            ]
          },
          "metadata": {},
          "execution_count": 23
        }
      ]
    },
    {
      "cell_type": "markdown",
      "source": [
        "### Avaliação do perigo relacionado ao volume precipitado no Brasil"
      ],
      "metadata": {
        "id": "hZRgbHQ7vp79"
      }
    },
    {
      "cell_type": "code",
      "source": [
        "cidade = input('Informe a cidade que será a pesquisa\\n')\n",
        "print()\n",
        "estado = input('Informe o estado que será a pesquisa\\n')\n",
        "\n",
        "local = chat.send_message('O local da pesquisa é na cidade de 'f'{cidade}' 'e no estado 'f'{estado}').text\n",
        "\n",
        "populacao = chat.send_message('Qual é a população estimada para o local: 'f'{local}').text"
      ],
      "metadata": {
        "colab": {
          "base_uri": "https://localhost:8080/",
          "height": 104
        },
        "id": "zw_EVYplv1ZX",
        "outputId": "91e6a303-efa4-489e-84b9-238cb548fa4e"
      },
      "execution_count": 28,
      "outputs": [
        {
          "output_type": "display_data",
          "data": {
            "text/plain": [
              "<IPython.core.display.HTML object>"
            ],
            "text/html": [
              "\n",
              "            <style>\n",
              "                .geemap-dark {\n",
              "                    --jp-widgets-color: white;\n",
              "                    --jp-widgets-label-color: white;\n",
              "                    --jp-ui-font-color1: white;\n",
              "                    --jp-layout-color2: #454545;\n",
              "                    background-color: #383838;\n",
              "                }\n",
              "\n",
              "                .geemap-dark .jupyter-button {\n",
              "                    --jp-layout-color3: #383838;\n",
              "                }\n",
              "\n",
              "                .geemap-colab {\n",
              "                    background-color: var(--colab-primary-surface-color, white);\n",
              "                }\n",
              "\n",
              "                .geemap-colab .jupyter-button {\n",
              "                    --jp-layout-color3: var(--colab-primary-surface-color, white);\n",
              "                }\n",
              "            </style>\n",
              "            "
            ]
          },
          "metadata": {}
        },
        {
          "name": "stdout",
          "output_type": "stream",
          "text": [
            "Informe a cidade que será a pesquisa\n",
            "Santa Maria\n",
            "\n",
            "Informe o estado que será a pesquisa\n",
            "RS\n"
          ]
        }
      ]
    },
    {
      "cell_type": "code",
      "source": [
        "data = input('Informe o dia da pesquisa no formato DD/MM/AAAA \\n')\n",
        "\n",
        "# Data no formato do Google Earth Engine\n",
        "data_ee = ee.Date(data[-4:] + '-' + data[3:5] + '-' + data[0:2])"
      ],
      "metadata": {
        "colab": {
          "base_uri": "https://localhost:8080/",
          "height": 52
        },
        "id": "3qHn2Aa_p8I-",
        "outputId": "83f235bf-7bc1-4e9b-8cd3-61b0a41c523c"
      },
      "execution_count": 31,
      "outputs": [
        {
          "output_type": "display_data",
          "data": {
            "text/plain": [
              "<IPython.core.display.HTML object>"
            ],
            "text/html": [
              "\n",
              "            <style>\n",
              "                .geemap-dark {\n",
              "                    --jp-widgets-color: white;\n",
              "                    --jp-widgets-label-color: white;\n",
              "                    --jp-ui-font-color1: white;\n",
              "                    --jp-layout-color2: #454545;\n",
              "                    background-color: #383838;\n",
              "                }\n",
              "\n",
              "                .geemap-dark .jupyter-button {\n",
              "                    --jp-layout-color3: #383838;\n",
              "                }\n",
              "\n",
              "                .geemap-colab {\n",
              "                    background-color: var(--colab-primary-surface-color, white);\n",
              "                }\n",
              "\n",
              "                .geemap-colab .jupyter-button {\n",
              "                    --jp-layout-color3: var(--colab-primary-surface-color, white);\n",
              "                }\n",
              "            </style>\n",
              "            "
            ]
          },
          "metadata": {}
        },
        {
          "name": "stdout",
          "output_type": "stream",
          "text": [
            "Informe o dia da pesquisa no formato DD/MM/AAAA \n",
            "30/04/2024\n"
          ]
        }
      ]
    },
    {
      "cell_type": "code",
      "source": [
        "# Obtendo o valor da chuva média mensal para o estado informado\n",
        "chuva_media_estado = chat.send_message('Dado a tabela de chuva média mensal por estados, qual é a chuva média mensal para o estado ' f'{estado}' '? Informe SOMENTE o número, em formato string, arredondado para 2 casas decimais com separador decimal dot (.)').text\n",
        "chuva_media_estado = float(remover_simbolos(chuva_media_estado))\n",
        "print('Chuva média mensal do 'f'{estado}: 'f'{chuva_media_estado}')"
      ],
      "metadata": {
        "colab": {
          "base_uri": "https://localhost:8080/",
          "height": 34
        },
        "id": "3AaRIzA40C9Z",
        "outputId": "d06de775-6853-464d-e9c7-fc6c29602485"
      },
      "execution_count": 32,
      "outputs": [
        {
          "output_type": "display_data",
          "data": {
            "text/plain": [
              "<IPython.core.display.HTML object>"
            ],
            "text/html": [
              "\n",
              "            <style>\n",
              "                .geemap-dark {\n",
              "                    --jp-widgets-color: white;\n",
              "                    --jp-widgets-label-color: white;\n",
              "                    --jp-ui-font-color1: white;\n",
              "                    --jp-layout-color2: #454545;\n",
              "                    background-color: #383838;\n",
              "                }\n",
              "\n",
              "                .geemap-dark .jupyter-button {\n",
              "                    --jp-layout-color3: #383838;\n",
              "                }\n",
              "\n",
              "                .geemap-colab {\n",
              "                    background-color: var(--colab-primary-surface-color, white);\n",
              "                }\n",
              "\n",
              "                .geemap-colab .jupyter-button {\n",
              "                    --jp-layout-color3: var(--colab-primary-surface-color, white);\n",
              "                }\n",
              "            </style>\n",
              "            "
            ]
          },
          "metadata": {}
        },
        {
          "output_type": "stream",
          "name": "stdout",
          "text": [
            "Chuva média mensal do RS: 150.0\n"
          ]
        }
      ]
    },
    {
      "cell_type": "code",
      "source": [
        "# Obtendo a longitude do local informado\n",
        "lon = chat.send_message('Com base na cidade de 'f'{cidade}'', localizada no estado do 'f'{estado}'', qual é a longitude do local? Informe SOMENTE o número, em formato string, com separador decimal dot').text\n",
        "lon = float(remover_simbolos(lon))\n",
        "\n",
        "# Obtendo a latitude do local informado\n",
        "lat = chat.send_message('Com base na cidade de 'f'{cidade}'', localizada no estado do 'f'{estado}'', qual é a latitude do local? Informe SOMENTE o número, em formato string, com separador decimal dot').text\n",
        "lat = float(remover_simbolos(lat))\n",
        "\n",
        "# Definindo o ponto para obtenção das informações no Google Earth Engine\n",
        "ponto = ee.Geometry.Point([lon, lat])"
      ],
      "metadata": {
        "colab": {
          "base_uri": "https://localhost:8080/",
          "height": 17
        },
        "id": "K3rAbYwC2DUv",
        "outputId": "7f4c4255-bd37-4eb4-8a88-46329767a42b"
      },
      "execution_count": 33,
      "outputs": [
        {
          "output_type": "display_data",
          "data": {
            "text/plain": [
              "<IPython.core.display.HTML object>"
            ],
            "text/html": [
              "\n",
              "            <style>\n",
              "                .geemap-dark {\n",
              "                    --jp-widgets-color: white;\n",
              "                    --jp-widgets-label-color: white;\n",
              "                    --jp-ui-font-color1: white;\n",
              "                    --jp-layout-color2: #454545;\n",
              "                    background-color: #383838;\n",
              "                }\n",
              "\n",
              "                .geemap-dark .jupyter-button {\n",
              "                    --jp-layout-color3: #383838;\n",
              "                }\n",
              "\n",
              "                .geemap-colab {\n",
              "                    background-color: var(--colab-primary-surface-color, white);\n",
              "                }\n",
              "\n",
              "                .geemap-colab .jupyter-button {\n",
              "                    --jp-layout-color3: var(--colab-primary-surface-color, white);\n",
              "                }\n",
              "            </style>\n",
              "            "
            ]
          },
          "metadata": {}
        }
      ]
    },
    {
      "cell_type": "code",
      "source": [
        "# Definindo a bacia hidrográfica do local informado\n",
        "\n",
        "# Adicionando o título do mapa\n",
        "display(Markdown(\"### Mapa de localização da bacia hidrográfica da área de estudo: \"f'{cidade}, {estado}'))\n",
        "\n",
        "# Adicionando o mapa formato geemap\n",
        "Map = geemap.Map(basemap='Esri.WorldImagery')\n",
        "Map.add_basemap('CartoDB.PositronOnlyLabels')\n",
        "\n",
        "# Adicionando as bacias do banco de dados HydroATLAS - HydroSHEDS\n",
        "bacias = ee.FeatureCollection('WWF/HydroATLAS/v1/Basins/level07')\n",
        "\n",
        "# Filtrando a bacia para o local informado\n",
        "bacia_filtrada = bacias.filterBounds(ponto)\n",
        "\n",
        "# Configurando a visualização da bacia filtrada\n",
        "style_params = {\n",
        "  'fillColor': '00000000',  # 100% transparent fill color\n",
        "  'color': '#FF00FF',  # Red color for the border\n",
        "  'width': 5  # Thicker border\n",
        "}\n",
        "\n",
        "# Definindo a legenda do mapa\n",
        "legend_dict = {\n",
        "    'Bacia Hidrográfica': '#FF00FF',\n",
        "}\n",
        "\n",
        "# Adicionando a legenda ao mapa\n",
        "Map.add_legend(legend_dict=legend_dict)\n",
        "\n",
        "# Adicionando a bacia hidrográfica ao mapa\n",
        "Map.addLayer(bacia_filtrada.style(**style_params), {}, 'Bacia hidrográfica')\n",
        "\n",
        "# Centralizando o mapa\n",
        "Map.centerObject(bacia_filtrada, zoom=10)\n",
        "\n",
        "# Mostrando o mapa\n",
        "Map"
      ],
      "metadata": {
        "colab": {
          "base_uri": "https://localhost:8080/",
          "height": 58
        },
        "id": "HPjl79Z_7Eiy",
        "outputId": "30e08e8f-7bfa-4779-efc8-37c8d461628c"
      },
      "execution_count": 47,
      "outputs": [
        {
          "output_type": "display_data",
          "data": {
            "text/plain": [
              "<IPython.core.display.HTML object>"
            ],
            "text/html": [
              "\n",
              "            <style>\n",
              "                .geemap-dark {\n",
              "                    --jp-widgets-color: white;\n",
              "                    --jp-widgets-label-color: white;\n",
              "                    --jp-ui-font-color1: white;\n",
              "                    --jp-layout-color2: #454545;\n",
              "                    background-color: #383838;\n",
              "                }\n",
              "\n",
              "                .geemap-dark .jupyter-button {\n",
              "                    --jp-layout-color3: #383838;\n",
              "                }\n",
              "\n",
              "                .geemap-colab {\n",
              "                    background-color: var(--colab-primary-surface-color, white);\n",
              "                }\n",
              "\n",
              "                .geemap-colab .jupyter-button {\n",
              "                    --jp-layout-color3: var(--colab-primary-surface-color, white);\n",
              "                }\n",
              "            </style>\n",
              "            "
            ]
          },
          "metadata": {}
        },
        {
          "output_type": "display_data",
          "data": {
            "text/plain": [
              "<IPython.core.display.Markdown object>"
            ],
            "text/markdown": "### Mapa de localização da bacia hidrográfica da área de estudo: Santa Maria, RS"
          },
          "metadata": {}
        }
      ]
    },
    {
      "cell_type": "code",
      "source": [
        "# Obtendo informações de precipitação do local para a data informada\n",
        "\n",
        "# Adicionando o título do mapa\n",
        "display(Markdown(\"### Mapa de precipitação acumulada para o dia \" f\"{data}\"))\n",
        "\n",
        "# Carregando os dados de precipitação do produto Global Precipitaion Measurement\n",
        "gpm = ee.ImageCollection('NASA/GPM_L3/IMERG_V06').select('precipitationCal')\n",
        "\n",
        "# Ajustando a data\n",
        "range = ee.Date(data_ee).getRange('day');\n",
        "gpm = gpm.filter(ee.Filter.date(range));\n",
        "\n",
        "# Obtendo o valor de precipitação diária - é dividido por 2 pois o valor é registrado a cada 30 minutos (em mm/h)\n",
        "total_precipitation = gpm.reduce(ee.Reducer.sum()).divide(2)\n",
        "\n",
        "# Criando uma máscara para aparecer apenas os pixels em que houve chuva registrada no período\n",
        "mask = total_precipitation.gt(0.5);\n",
        "precipitation = total_precipitation.updateMask(mask);\n",
        "\n",
        "# Criando o mapa\n",
        "Map = geemap.Map(basemap='CartoDB.DarkMatter')\n",
        "\n",
        "# Definindo a legenda\n",
        "legend_dict = {\n",
        "    '0-30': '#000096',\n",
        "    '30-60': '#0064ff',\n",
        "    '60-90': '#00b4ff',\n",
        "    '90-120': '#33db80',\n",
        "    '120-150': '#9beb4a',\n",
        "    '150-180': '#ffeb00',\n",
        "    '180-210': '#ffb300',\n",
        "    '210-240': '#ff6400',\n",
        "    '240-270': '#eb1e00',\n",
        "    '270-300': '#af0000',\n",
        "}\n",
        "\n",
        "# Adicione a legenda ao mapa\n",
        "Map.add_legend(legend_dict=legend_dict)\n",
        "\n",
        "# Adiciona o total precipitado no mapa\n",
        "Map.addLayer(precipitation, {'min': 0, 'max': 300, 'palette': ['000096','0064ff', '00b4ff', '33db80', '9beb4a', 'ffeb00', 'ffb300', 'ff6400', 'eb1e00', 'af0000']}, 'Total Precipitation')\n",
        "\n",
        "# Adiciona a bacia hidrográfica no mapa\n",
        "Map.addLayer(bacia_filtrada.style(**style_params), {}, 'Bacia hidrográfica')\n",
        "\n",
        "# Centralizando o mapa\n",
        "Map.centerObject(bacia_filtrada, zoom=7)\n",
        "\n",
        "# Mostrando o mapa\n",
        "Map"
      ],
      "metadata": {
        "colab": {
          "base_uri": "https://localhost:8080/",
          "height": 58
        },
        "id": "6XYkBd0x_G87",
        "outputId": "79205145-fb5a-4c53-c136-f972a7c568e9"
      },
      "execution_count": 48,
      "outputs": [
        {
          "output_type": "display_data",
          "data": {
            "text/plain": [
              "<IPython.core.display.HTML object>"
            ],
            "text/html": [
              "\n",
              "            <style>\n",
              "                .geemap-dark {\n",
              "                    --jp-widgets-color: white;\n",
              "                    --jp-widgets-label-color: white;\n",
              "                    --jp-ui-font-color1: white;\n",
              "                    --jp-layout-color2: #454545;\n",
              "                    background-color: #383838;\n",
              "                }\n",
              "\n",
              "                .geemap-dark .jupyter-button {\n",
              "                    --jp-layout-color3: #383838;\n",
              "                }\n",
              "\n",
              "                .geemap-colab {\n",
              "                    background-color: var(--colab-primary-surface-color, white);\n",
              "                }\n",
              "\n",
              "                .geemap-colab .jupyter-button {\n",
              "                    --jp-layout-color3: var(--colab-primary-surface-color, white);\n",
              "                }\n",
              "            </style>\n",
              "            "
            ]
          },
          "metadata": {}
        },
        {
          "output_type": "display_data",
          "data": {
            "text/plain": [
              "<IPython.core.display.Markdown object>"
            ],
            "text/markdown": "### Mapa de precipitação acumulada para o dia 30/04/2024"
          },
          "metadata": {}
        }
      ]
    },
    {
      "cell_type": "code",
      "source": [
        "# Obtendo informações sobre a chuva observada média na bacia hidrográfica\n",
        "chuva_observada = precipitation.reduceRegion(reducer=ee.Reducer.mean(), geometry=bacia_filtrada, scale=30).getInfo()['precipitationCal_sum']\n",
        "\n",
        "# Verificação do valor precipitado:\n",
        "if chuva_observada == None:\n",
        "  print('Não houve chuva')\n",
        "\n",
        "else:\n",
        "  print('Precipitação média da bacia hidrográfica no dia 'f'{data}'':', round(chuva_observada, 2), 'mm')"
      ],
      "metadata": {
        "colab": {
          "base_uri": "https://localhost:8080/",
          "height": 34
        },
        "id": "8_W8pFYNTpYE",
        "outputId": "593073e8-1ebc-4ad9-9537-f1705f5ae59e"
      },
      "execution_count": 49,
      "outputs": [
        {
          "output_type": "display_data",
          "data": {
            "text/plain": [
              "<IPython.core.display.HTML object>"
            ],
            "text/html": [
              "\n",
              "            <style>\n",
              "                .geemap-dark {\n",
              "                    --jp-widgets-color: white;\n",
              "                    --jp-widgets-label-color: white;\n",
              "                    --jp-ui-font-color1: white;\n",
              "                    --jp-layout-color2: #454545;\n",
              "                    background-color: #383838;\n",
              "                }\n",
              "\n",
              "                .geemap-dark .jupyter-button {\n",
              "                    --jp-layout-color3: #383838;\n",
              "                }\n",
              "\n",
              "                .geemap-colab {\n",
              "                    background-color: var(--colab-primary-surface-color, white);\n",
              "                }\n",
              "\n",
              "                .geemap-colab .jupyter-button {\n",
              "                    --jp-layout-color3: var(--colab-primary-surface-color, white);\n",
              "                }\n",
              "            </style>\n",
              "            "
            ]
          },
          "metadata": {}
        },
        {
          "output_type": "stream",
          "name": "stdout",
          "text": [
            "Precipitação média da bacia hidrográfica no dia 30/04/2024: 263.77 mm\n"
          ]
        }
      ]
    },
    {
      "cell_type": "code",
      "source": [
        "# Resultado da análise realizada\n",
        "resultado = chat.send_message('Com base no valor precipitado de 'f'{chuva_observada}'', em 'f'{cidade}'', 'f'{estado}'' no dia 'f'{data}'' que tem uma população estimada de 'f'{populacao}'', qual é o resultado da análise, conforme a instrução repassada anteriormente? Caso o valor da chuva observada seja None, informar que não há dados e não é possível realizar a análise').text"
      ],
      "metadata": {
        "colab": {
          "base_uri": "https://localhost:8080/",
          "height": 17
        },
        "id": "r4BrWh_g6MLj",
        "outputId": "72f50e5f-c5d6-4366-9218-5e5f8fad6b35"
      },
      "execution_count": 37,
      "outputs": [
        {
          "output_type": "display_data",
          "data": {
            "text/plain": [
              "<IPython.core.display.HTML object>"
            ],
            "text/html": [
              "\n",
              "            <style>\n",
              "                .geemap-dark {\n",
              "                    --jp-widgets-color: white;\n",
              "                    --jp-widgets-label-color: white;\n",
              "                    --jp-ui-font-color1: white;\n",
              "                    --jp-layout-color2: #454545;\n",
              "                    background-color: #383838;\n",
              "                }\n",
              "\n",
              "                .geemap-dark .jupyter-button {\n",
              "                    --jp-layout-color3: #383838;\n",
              "                }\n",
              "\n",
              "                .geemap-colab {\n",
              "                    background-color: var(--colab-primary-surface-color, white);\n",
              "                }\n",
              "\n",
              "                .geemap-colab .jupyter-button {\n",
              "                    --jp-layout-color3: var(--colab-primary-surface-color, white);\n",
              "                }\n",
              "            </style>\n",
              "            "
            ]
          },
          "metadata": {}
        }
      ]
    },
    {
      "cell_type": "code",
      "source": [
        "# Apresentando o resultado\n",
        "display(Markdown('### Análise de risco devido a precipitação'))\n",
        "\n",
        "display(to_markdown(resultado))\n",
        "\n",
        "display(Markdown('### Importante!!'))\n",
        "display(Markdown('A presente análise **não deve ser levado em conta por ninguém**.'))\n",
        "display(Markdown('Esse código foi criado como parte de um desafio da Imersão de Inteligência Artificial da Alura.'))\n",
        "display(Markdown('Portanto, os resultados aqui apresentados não foram validados, servem apenas para fins didáticos.'))"
      ],
      "metadata": {
        "colab": {
          "base_uri": "https://localhost:8080/",
          "height": 552
        },
        "id": "fOcFgxVs8gm6",
        "outputId": "1771e5f9-f2c3-4cc9-9d80-b7337d55de38"
      },
      "execution_count": 45,
      "outputs": [
        {
          "output_type": "display_data",
          "data": {
            "text/plain": [
              "<IPython.core.display.HTML object>"
            ],
            "text/html": [
              "\n",
              "            <style>\n",
              "                .geemap-dark {\n",
              "                    --jp-widgets-color: white;\n",
              "                    --jp-widgets-label-color: white;\n",
              "                    --jp-ui-font-color1: white;\n",
              "                    --jp-layout-color2: #454545;\n",
              "                    background-color: #383838;\n",
              "                }\n",
              "\n",
              "                .geemap-dark .jupyter-button {\n",
              "                    --jp-layout-color3: #383838;\n",
              "                }\n",
              "\n",
              "                .geemap-colab {\n",
              "                    background-color: var(--colab-primary-surface-color, white);\n",
              "                }\n",
              "\n",
              "                .geemap-colab .jupyter-button {\n",
              "                    --jp-layout-color3: var(--colab-primary-surface-color, white);\n",
              "                }\n",
              "            </style>\n",
              "            "
            ]
          },
          "metadata": {}
        },
        {
          "output_type": "display_data",
          "data": {
            "text/plain": [
              "<IPython.core.display.Markdown object>"
            ],
            "text/markdown": "### Análise de risco devido a precipitação"
          },
          "metadata": {}
        },
        {
          "output_type": "display_data",
          "data": {
            "text/plain": [
              "<IPython.core.display.Markdown object>"
            ],
            "text/markdown": "> **Análise do Risco de Precipitação**\n> \n> **Local:** Santa Maria, Rio Grande do Sul\n> **Data:** 30/04/2024\n> **Valor da Precipitação:** 263,77 mm\n> \n> **Análise Inicial:**\n> \n> * A precipitação registrada em Santa Maria em 30/04/2024 foi de 263,77 mm.\n> * A média mensal de precipitação para abril em Santa Maria é de 150 mm.\n> \n> **Análise do Risco:**\n> \n> * Nível de risco: **Vermelho (Grande Perigo)**\n> * Ações que devem ser tomadas pela população:\n>     > Mantenha-se informado sobre as condições meteorológicas previstas e os possíveis riscos.\n>     > Siga as instruções e conselhos das autoridades em todas as circunstâncias e prepare-se para medidas de emergência.\n> \n> **Pessoas Afetadas:**\n> \n> * População de Santa Maria: 282.811 habitantes\n> * Número estimado de pessoas possivelmente afetadas: 282.811 (toda a população da cidade)\n> \n> **Observações:**\n> \n> * O nível de risco e as ações recomendadas podem variar dependendo das condições locais, como topografia, cobertura do solo e infraestrutura.\n> * É importante seguir as orientações das autoridades locais e estar preparado para tomar medidas de emergência, como evacuar sua casa ou procurar abrigo, se necessário."
          },
          "metadata": {}
        },
        {
          "output_type": "display_data",
          "data": {
            "text/plain": [
              "<IPython.core.display.Markdown object>"
            ],
            "text/markdown": "### Importante!!"
          },
          "metadata": {}
        },
        {
          "output_type": "display_data",
          "data": {
            "text/plain": [
              "<IPython.core.display.Markdown object>"
            ],
            "text/markdown": "A presente análise **não deve ser levado em conta por ninguém**."
          },
          "metadata": {}
        },
        {
          "output_type": "display_data",
          "data": {
            "text/plain": [
              "<IPython.core.display.Markdown object>"
            ],
            "text/markdown": "Esse código foi criado como parte de um desafio da Imersão de Inteligência Artificial da Alura."
          },
          "metadata": {}
        },
        {
          "output_type": "display_data",
          "data": {
            "text/plain": [
              "<IPython.core.display.Markdown object>"
            ],
            "text/markdown": "Portanto, os resultados aqui apresentados não foram validados, servem apenas para fins didáticos."
          },
          "metadata": {}
        }
      ]
    }
  ]
}